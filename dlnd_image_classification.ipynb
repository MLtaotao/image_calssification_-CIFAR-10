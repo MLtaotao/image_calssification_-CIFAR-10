{
 "cells": [
  {
   "cell_type": "markdown",
   "metadata": {
    "collapsed": true,
    "deletable": true,
    "editable": true
   },
   "source": [
    "# Image Classification\n",
    "In this project, you'll classify images from the [CIFAR-10 dataset](https://www.cs.toronto.edu/~kriz/cifar.html).  The dataset consists of airplanes, dogs, cats, and other objects. You'll preprocess the images, then train a convolutional neural network on all the samples. The images need to be normalized and the labels need to be one-hot encoded.  You'll get to apply what you learned and build a convolutional, max pooling, dropout, and fully connected layers.  At the end, you'll get to see your neural network's predictions on the sample images.\n",
    "## Get the Data\n",
    "Run the following cell to download the [CIFAR-10 dataset for python](https://www.cs.toronto.edu/~kriz/cifar-10-python.tar.gz)."
   ]
  },
  {
   "cell_type": "code",
   "execution_count": 1,
   "metadata": {
    "collapsed": false,
    "deletable": true,
    "editable": true
   },
   "outputs": [
    {
     "name": "stderr",
     "output_type": "stream",
     "text": [
      "CIFAR-10 Dataset: 171MB [00:22, 7.53MB/s]                              \n"
     ]
    },
    {
     "name": "stdout",
     "output_type": "stream",
     "text": [
      "All files found!\n"
     ]
    }
   ],
   "source": [
    "\"\"\"\n",
    "DON'T MODIFY ANYTHING IN THIS CELL THAT IS BELOW THIS LINE\n",
    "\"\"\"\n",
    "from urllib.request import urlretrieve\n",
    "from os.path import isfile, isdir\n",
    "from tqdm import tqdm\n",
    "import problem_unittests as tests\n",
    "import tarfile\n",
    "\n",
    "cifar10_dataset_folder_path = 'cifar-10-batches-py'\n",
    "\n",
    "class DLProgress(tqdm):\n",
    "    last_block = 0\n",
    "\n",
    "    def hook(self, block_num=1, block_size=1, total_size=None):\n",
    "        self.total = total_size\n",
    "        self.update((block_num - self.last_block) * block_size)\n",
    "        self.last_block = block_num\n",
    "\n",
    "if not isfile('cifar-10-python.tar.gz'):\n",
    "    with DLProgress(unit='B', unit_scale=True, miniters=1, desc='CIFAR-10 Dataset') as pbar:\n",
    "        urlretrieve(\n",
    "            'https://www.cs.toronto.edu/~kriz/cifar-10-python.tar.gz',\n",
    "            'cifar-10-python.tar.gz',\n",
    "            pbar.hook)\n",
    "\n",
    "if not isdir(cifar10_dataset_folder_path):\n",
    "    with tarfile.open('cifar-10-python.tar.gz') as tar:\n",
    "        tar.extractall()\n",
    "        tar.close()\n",
    "\n",
    "\n",
    "tests.test_folder_path(cifar10_dataset_folder_path)"
   ]
  },
  {
   "cell_type": "markdown",
   "metadata": {
    "deletable": true,
    "editable": true
   },
   "source": [
    "## Explore the Data\n",
    "The dataset is broken into batches to prevent your machine from running out of memory.  The CIFAR-10 dataset consists of 5 batches, named `data_batch_1`, `data_batch_2`, etc.. Each batch contains the labels and images that are one of the following:\n",
    "* airplane\n",
    "* automobile\n",
    "* bird\n",
    "* cat\n",
    "* deer\n",
    "* dog\n",
    "* frog\n",
    "* horse\n",
    "* ship\n",
    "* truck\n",
    "\n",
    "Understanding a dataset is part of making predictions on the data.  Play around with the code cell below by changing the `batch_id` and `sample_id`. The `batch_id` is the id for a batch (1-5). The `sample_id` is the id for a image and label pair in the batch.\n",
    "\n",
    "Ask yourself \"What are all possible labels?\", \"What is the range of values for the image data?\", \"Are the labels in order or random?\".  Answers to questions like these will help you preprocess the data and end up with better predictions."
   ]
  },
  {
   "cell_type": "code",
   "execution_count": 2,
   "metadata": {
    "collapsed": false,
    "deletable": true,
    "editable": true
   },
   "outputs": [
    {
     "name": "stdout",
     "output_type": "stream",
     "text": [
      "\n",
      "Stats of batch 1:\n",
      "Samples: 10000\n",
      "Label Counts: {0: 1005, 1: 974, 2: 1032, 3: 1016, 4: 999, 5: 937, 6: 1030, 7: 1001, 8: 1025, 9: 981}\n",
      "First 20 Labels: [6, 9, 9, 4, 1, 1, 2, 7, 8, 3, 4, 7, 7, 2, 9, 9, 9, 3, 2, 6]\n",
      "\n",
      "Example of Image 5:\n",
      "Image - Min Value: 0 Max Value: 252\n",
      "Image - Shape: (32, 32, 3)\n",
      "Label - Label Id: 1 Name: automobile\n"
     ]
    },
    {
     "data": {
      "image/png": "[encoded data removed]",
      "text/plain": [
       "<matplotlib.figure.Figure at 0x7fec178bd2e8>"
      ]
     },
     "metadata": {
      "image/png": {
       "height": 250,
       "width": 253
      }
     },
     "output_type": "display_data"
    }
   ],
   "source": [
    "%matplotlib inline\n",
    "%config InlineBackend.figure_format = 'retina'\n",
    "\n",
    "import helper\n",
    "import numpy as np\n",
    "\n",
    "# Explore the dataset\n",
    "batch_id = 1\n",
    "sample_id = 5\n",
    "helper.display_stats(cifar10_dataset_folder_path, batch_id, sample_id)"
   ]
  },
  {
   "cell_type": "code",
   "execution_count": 3,
   "metadata": {
    "collapsed": false
   },
   "outputs": [
    {
     "name": "stdout",
     "output_type": "stream",
     "text": [
      "\n",
      "Stats of batch 1:\n",
      "Samples: 10000\n",
      "Label Counts: {0: 1005, 1: 974, 2: 1032, 3: 1016, 4: 999, 5: 937, 6: 1030, 7: 1001, 8: 1025, 9: 981}\n",
      "First 20 Labels: [6, 9, 9, 4, 1, 1, 2, 7, 8, 3, 4, 7, 7, 2, 9, 9, 9, 3, 2, 6]\n",
      "\n",
      "Example of Image 5:\n",
      "Image - Min Value: 0 Max Value: 252\n",
      "Image - Shape: (32, 32, 3)\n",
      "Label - Label Id: 1 Name: automobile\n",
      "\n",
      "Stats of batch 2:\n",
      "Samples: 10000\n",
      "Label Counts: {0: 984, 1: 1007, 2: 1010, 3: 995, 4: 1010, 5: 988, 6: 1008, 7: 1026, 8: 987, 9: 985}\n",
      "First 20 Labels: [1, 6, 6, 8, 8, 3, 4, 6, 0, 6, 0, 3, 6, 6, 5, 4, 8, 3, 2, 6]\n",
      "\n",
      "Example of Image 5:\n",
      "Image - Min Value: 3 Max Value: 219\n",
      "Image - Shape: (32, 32, 3)\n",
      "Label - Label Id: 3 Name: cat\n",
      "\n",
      "Stats of batch 3:\n",
      "Samples: 10000\n",
      "Label Counts: {0: 994, 1: 1042, 2: 965, 3: 997, 4: 990, 5: 1029, 6: 978, 7: 1015, 8: 961, 9: 1029}\n",
      "First 20 Labels: [8, 5, 0, 6, 9, 2, 8, 3, 6, 2, 7, 4, 6, 9, 0, 0, 7, 3, 7, 2]\n",
      "\n",
      "Example of Image 5:\n",
      "Image - Min Value: 9 Max Value: 255\n",
      "Image - Shape: (32, 32, 3)\n",
      "Label - Label Id: 2 Name: bird\n",
      "\n",
      "Stats of batch 4:\n",
      "Samples: 10000\n",
      "Label Counts: {0: 1003, 1: 963, 2: 1041, 3: 976, 4: 1004, 5: 1021, 6: 1004, 7: 981, 8: 1024, 9: 983}\n",
      "First 20 Labels: [0, 6, 0, 2, 7, 2, 1, 2, 4, 1, 5, 6, 6, 3, 1, 3, 5, 5, 8, 1]\n",
      "\n",
      "Example of Image 5:\n",
      "Image - Min Value: 13 Max Value: 169\n",
      "Image - Shape: (32, 32, 3)\n",
      "Label - Label Id: 2 Name: bird\n",
      "\n",
      "Stats of batch 5:\n",
      "Samples: 10000\n",
      "Label Counts: {0: 1014, 1: 1014, 2: 952, 3: 1016, 4: 997, 5: 1025, 6: 980, 7: 977, 8: 1003, 9: 1022}\n",
      "First 20 Labels: [1, 8, 5, 1, 5, 7, 4, 3, 8, 2, 7, 2, 0, 1, 5, 9, 6, 2, 0, 8]\n",
      "\n",
      "Example of Image 5:\n",
      "Image - Min Value: 1 Max Value: 255\n",
      "Image - Shape: (32, 32, 3)\n",
      "Label - Label Id: 7 Name: horse\n"
     ]
    },
    {
     "data": {
      "image/png": "[encoded data removed]",
      "text/plain": [
       "<matplotlib.figure.Figure at 0x7fec7856d390>"
      ]
     },
     "metadata": {
      "image/png": {
       "height": 250,
       "width": 253
      }
     },
     "output_type": "display_data"
    }
   ],
   "source": [
    "for batch_id in range(1,6):\n",
    "    helper.display_stats(cifar10_dataset_folder_path, batch_id, sample_id)"
   ]
  },
  {
   "cell_type": "markdown",
   "metadata": {
    "deletable": true,
    "editable": true
   },
   "source": [
    "## Implement Preprocess Functions\n",
    "### Normalize\n",
    "In the cell below, implement the `normalize` function to take in image data, `x`, and return it as a normalized Numpy array. The values should be in the range of 0 to 1, inclusive.  The return object should be the same shape as `x`."
   ]
  },
  {
   "cell_type": "code",
   "execution_count": 4,
   "metadata": {
    "collapsed": false,
    "deletable": true,
    "editable": true
   },
   "outputs": [
    {
     "name": "stdout",
     "output_type": "stream",
     "text": [
      "Tests Passed\n"
     ]
    }
   ],
   "source": [
    "def normalize(x):\n",
    "    \"\"\"\n",
    "    Normalize a list of sample image data in the range of 0 to 1\n",
    "    : x: List of image data.  The image shape is (32, 32, 3)\n",
    "    : return: Numpy array of normalize data\n",
    "    \"\"\"\n",
    "    x = x / 255.\n",
    "    # TODO: Implement Function\n",
    "    return x\n",
    "\n",
    "\n",
    "\"\"\"\n",
    "DON'T MODIFY ANYTHING IN THIS CELL THAT IS BELOW THIS LINE\n",
    "\"\"\"\n",
    "tests.test_normalize(normalize)"
   ]
  },
  {
   "cell_type": "markdown",
   "metadata": {
    "deletable": true,
    "editable": true
   },
   "source": [
    "### One-hot encode\n",
    "Just like the previous code cell, you'll be implementing a function for preprocessing.  This time, you'll implement the `one_hot_encode` function. The input, `x`, are a list of labels.  Implement the function to return the list of labels as One-Hot encoded Numpy array.  The possible values for labels are 0 to 9. The one-hot encoding function should return the same encoding for each value between each call to `one_hot_encode`.  Make sure to save the map of encodings outside the function.\n",
    "\n",
    "Hint: Don't reinvent the wheel."
   ]
  },
  {
   "cell_type": "code",
   "execution_count": 5,
   "metadata": {
    "collapsed": false,
    "deletable": true,
    "editable": true
   },
   "outputs": [
    {
     "name": "stdout",
     "output_type": "stream",
     "text": [
      "Tests Passed\n"
     ]
    }
   ],
   "source": [
    "def one_hot_encode(x):\n",
    "    \"\"\"\n",
    "    One hot encode a list of sample labels. Return a one-hot encoded vector for each label.\n",
    "    : x: List of sample Labels\n",
    "    : return: Numpy array of one-hot encoded labels\n",
    "    \"\"\"\n",
    "    # TODO: Implement Function\n",
    "    one_hot = np.zeros((len(x), 10))\n",
    "    for i,j in enumerate(x):\n",
    "        one_hot[i, j] = 1.\n",
    "    return one_hot\n",
    "\n",
    "\n",
    "\"\"\"\n",
    "DON'T MODIFY ANYTHING IN THIS CELL THAT IS BELOW THIS LINE\n",
    "\"\"\"\n",
    "tests.test_one_hot_encode(one_hot_encode)"
   ]
  },
  {
   "cell_type": "markdown",
   "metadata": {
    "deletable": true,
    "editable": true
   },
   "source": [
    "### Randomize Data\n",
    "As you saw from exploring the data above, the order of the samples are randomized.  It doesn't hurt to randomize it again, but you don't need to for this dataset."
   ]
  },
  {
   "cell_type": "markdown",
   "metadata": {
    "deletable": true,
    "editable": true
   },
   "source": [
    "## Preprocess all the data and save it\n",
    "Running the code cell below will preprocess all the CIFAR-10 data and save it to file. The code below also uses 10% of the training data for validation."
   ]
  },
  {
   "cell_type": "code",
   "execution_count": 6,
   "metadata": {
    "collapsed": false,
    "deletable": true,
    "editable": true
   },
   "outputs": [],
   "source": [
    "\"\"\"\n",
    "DON'T MODIFY ANYTHING IN THIS CELL\n",
    "\"\"\"\n",
    "# Preprocess Training, Validation, and Testing Data\n",
    "helper.preprocess_and_save_data(cifar10_dataset_folder_path, normalize, one_hot_encode)"
   ]
  },
  {
   "cell_type": "markdown",
   "metadata": {
    "deletable": true,
    "editable": true
   },
   "source": [
    "# Check Point\n",
    "This is your first checkpoint.  If you ever decide to come back to this notebook or have to restart the notebook, you can start from here.  The preprocessed data has been saved to disk."
   ]
  },
  {
   "cell_type": "code",
   "execution_count": 7,
   "metadata": {
    "collapsed": true,
    "deletable": true,
    "editable": true
   },
   "outputs": [],
   "source": [
    "\"\"\"\n",
    "DON'T MODIFY ANYTHING IN THIS CELL\n",
    "\"\"\"\n",
    "import pickle\n",
    "import problem_unittests as tests\n",
    "import helper\n",
    "\n",
    "# Load the Preprocessed Validation data\n",
    "valid_features, valid_labels = pickle.load(open('preprocess_validation.p', mode='rb'))"
   ]
  },
  {
   "cell_type": "markdown",
   "metadata": {
    "deletable": true,
    "editable": true
   },
   "source": [
    "## Build the network\n",
    "For the neural network, you'll build each layer into a function.  Most of the code you've seen has been outside of functions. To test your code more thoroughly, we require that you put each layer in a function.  This allows us to give you better feedback and test for simple mistakes using our unittests before you submit your project.\n",
    "\n",
    ">**Note:** If you're finding it hard to dedicate enough time for this course each week, we've provided a small shortcut to this part of the project. In the next couple of problems, you'll have the option to use classes from the [TensorFlow Layers](https://www.tensorflow.org/api_docs/python/tf/layers) or [TensorFlow Layers (contrib)](https://www.tensorflow.org/api_guides/python/contrib.layers) packages to build each layer, except the layers you build in the \"Convolutional and Max Pooling Layer\" section.  TF Layers is similar to Keras's and TFLearn's abstraction to layers, so it's easy to pickup.\n",
    "\n",
    ">However, if you would like to get the most out of this course, try to solve all the problems _without_ using anything from the TF Layers packages. You **can** still use classes from other packages that happen to have the same name as ones you find in TF Layers! For example, instead of using the TF Layers version of the `conv2d` class, [tf.layers.conv2d](https://www.tensorflow.org/api_docs/python/tf/layers/conv2d), you would want to use the TF Neural Network version of `conv2d`, [tf.nn.conv2d](https://www.tensorflow.org/api_docs/python/tf/nn/conv2d). \n",
    "\n",
    "Let's begin!\n",
    "\n",
    "### Input\n",
    "The neural network needs to read the image data, one-hot encoded labels, and dropout keep probability. Implement the following functions\n",
    "* Implement `neural_net_image_input`\n",
    " * Return a [TF Placeholder](https://www.tensorflow.org/api_docs/python/tf/placeholder)\n",
    " * Set the shape using `image_shape` with batch size set to `None`.\n",
    " * Name the TensorFlow placeholder \"x\" using the TensorFlow `name` parameter in the [TF Placeholder](https://www.tensorflow.org/api_docs/python/tf/placeholder).\n",
    "* Implement `neural_net_label_input`\n",
    " * Return a [TF Placeholder](https://www.tensorflow.org/api_docs/python/tf/placeholder)\n",
    " * Set the shape using `n_classes` with batch size set to `None`.\n",
    " * Name the TensorFlow placeholder \"y\" using the TensorFlow `name` parameter in the [TF Placeholder](https://www.tensorflow.org/api_docs/python/tf/placeholder).\n",
    "* Implement `neural_net_keep_prob_input`\n",
    " * Return a [TF Placeholder](https://www.tensorflow.org/api_docs/python/tf/placeholder) for dropout keep probability.\n",
    " * Name the TensorFlow placeholder \"keep_prob\" using the TensorFlow `name` parameter in the [TF Placeholder](https://www.tensorflow.org/api_docs/python/tf/placeholder).\n",
    "\n",
    "These names will be used at the end of the project to load your saved model.\n",
    "\n",
    "Note: `None` for shapes in TensorFlow allow for a dynamic size."
   ]
  },
  {
   "cell_type": "code",
   "execution_count": 8,
   "metadata": {
    "collapsed": false,
    "deletable": true,
    "editable": true
   },
   "outputs": [
    {
     "name": "stdout",
     "output_type": "stream",
     "text": [
      "Image Input Tests Passed.\n",
      "Label Input Tests Passed.\n",
      "Keep Prob Tests Passed.\n"
     ]
    }
   ],
   "source": [
    "import tensorflow as tf\n",
    "\n",
    "def neural_net_image_input(image_shape):\n",
    "    \"\"\"\n",
    "    Return a Tensor for a bach of image input\n",
    "    : image_shape: Shape of the images\n",
    "    : return: Tensor for image input.\n",
    "    \"\"\"\n",
    "    # TODO: Implement Function\n",
    "    \n",
    "    return tf.placeholder(tf.float32, shape=[None, image_shape[0], image_shape[1], image_shape[2]], name= 'x')\n",
    "\n",
    "\n",
    "def neural_net_label_input(n_classes):\n",
    "    \"\"\"\n",
    "    Return a Tensor for a batch of label input\n",
    "    : n_classes: Number of classes\n",
    "    : return: Tensor for label input.\n",
    "    \"\"\"\n",
    "    # TODO: Implement Function\n",
    "    return tf.placeholder(tf.float32, shape=[None, n_classes], name= 'y')\n",
    "\n",
    "\n",
    "def neural_net_keep_prob_input():\n",
    "    \"\"\"\n",
    "    Return a Tensor for keep probability\n",
    "    : return: Tensor for keep probability.\n",
    "    \"\"\"\n",
    "    # TODO: Implement Function\n",
    "    return tf.placeholder(tf.float32, name= 'keep_prob')\n",
    "\n",
    "\n",
    "\"\"\"\n",
    "DON'T MODIFY ANYTHING IN THIS CELL THAT IS BELOW THIS LINE\n",
    "\"\"\"\n",
    "tf.reset_default_graph()\n",
    "tests.test_nn_image_inputs(neural_net_image_input)\n",
    "tests.test_nn_label_inputs(neural_net_label_input)\n",
    "tests.test_nn_keep_prob_inputs(neural_net_keep_prob_input)"
   ]
  },
  {
   "cell_type": "markdown",
   "metadata": {
    "deletable": true,
    "editable": true
   },
   "source": [
    "### Convolution and Max Pooling Layer\n",
    "Convolution layers have a lot of success with images. For this code cell, you should implement the function `conv2d_maxpool` to apply convolution then max pooling:\n",
    "* Create the weight and bias using `conv_ksize`, `conv_num_outputs` and the shape of `x_tensor`.\n",
    "* Apply a convolution to `x_tensor` using weight and `conv_strides`.\n",
    " * We recommend you use same padding, but you're welcome to use any padding.\n",
    "* Add bias\n",
    "* Add a nonlinear activation to the convolution.\n",
    "* Apply Max Pooling using `pool_ksize` and `pool_strides`.\n",
    " * We recommend you use same padding, but you're welcome to use any padding.\n",
    "\n",
    "**Note:** You **can't** use [TensorFlow Layers](https://www.tensorflow.org/api_docs/python/tf/layers) or [TensorFlow Layers (contrib)](https://www.tensorflow.org/api_guides/python/contrib.layers) for **this** layer, but you can still use TensorFlow's [Neural Network](https://www.tensorflow.org/api_docs/python/tf/nn) package. You may still use the shortcut option for all the **other** layers."
   ]
  },
  {
   "cell_type": "code",
   "execution_count": 9,
   "metadata": {
    "collapsed": false,
    "deletable": true,
    "editable": true
   },
   "outputs": [
    {
     "name": "stdout",
     "output_type": "stream",
     "text": [
      "Tests Passed\n"
     ]
    }
   ],
   "source": [
    "def conv2d_maxpool(x_tensor, conv_num_outputs, conv_ksize, conv_strides, pool_ksize, pool_strides):\n",
    "    \"\"\"\n",
    "    Apply convolution then max pooling to x_tensor\n",
    "    :param x_tensor: TensorFlow Tensor\n",
    "    :param conv_num_outputs: Number of outputs for the convolutional layer\n",
    "    :param conv_ksize: kernal size 2-D Tuple for the convolutional layer\n",
    "    :param conv_strides: Stride 2-D Tuple for convolution\n",
    "    :param pool_ksize: kernal size 2-D Tuple for pool\n",
    "    :param pool_strides: Stride 2-D Tuple for pool\n",
    "    : return: A tensor that represents convolution and max pooling of x_tensor\n",
    "    \"\"\"\n",
    "    # TODO: Implement Function\n",
    "    #print(conv_num_outputs, conv_ksize, conv_strides,pool_ksize, pool_strides )\n",
    "    #shape = [conv_ksize[0], conv_ksize[1], x_tensor.shape[-1].value, conv_num_outputs]\n",
    "    #print(shape)\n",
    "    #x_tensor[-1]\n",
    "    weights = tf.Variable(tf.truncated_normal(\n",
    "        shape= [conv_ksize[0], conv_ksize[1], x_tensor.shape[-1].value, conv_num_outputs], stddev = 0.1))\n",
    "    bias = tf.Variable(tf.zeros([conv_num_outputs]))\n",
    "    x = tf.nn.conv2d(x_tensor, weights, [1, conv_strides[0], conv_strides[1], 1], padding= 'SAME')\n",
    "    x = tf.nn.bias_add(x, bias)\n",
    "    x = tf.nn.relu(x)\n",
    "    x = tf.nn.max_pool(x, [1,pool_ksize[0], pool_ksize[1], 1], [1,pool_strides[0], pool_strides[1], 1], padding = 'SAME')\n",
    "    return x\n",
    "\n",
    "\n",
    "\"\"\"\n",
    "DON'T MODIFY ANYTHING IN THIS CELL THAT IS BELOW THIS LINE\n",
    "\"\"\"\n",
    "tests.test_con_pool(conv2d_maxpool)"
   ]
  },
  {
   "cell_type": "markdown",
   "metadata": {
    "deletable": true,
    "editable": true
   },
   "source": [
    "### Flatten Layer\n",
    "Implement the `flatten` function to change the dimension of `x_tensor` from a 4-D tensor to a 2-D tensor.  The output should be the shape (*Batch Size*, *Flattened Image Size*). Shortcut option: you can use classes from the [TensorFlow Layers](https://www.tensorflow.org/api_docs/python/tf/layers) or [TensorFlow Layers (contrib)](https://www.tensorflow.org/api_guides/python/contrib.layers) packages for this layer. For more of a challenge, only use other TensorFlow packages."
   ]
  },
  {
   "cell_type": "code",
   "execution_count": 10,
   "metadata": {
    "collapsed": false,
    "deletable": true,
    "editable": true
   },
   "outputs": [
    {
     "name": "stdout",
     "output_type": "stream",
     "text": [
      "Tests Passed\n"
     ]
    }
   ],
   "source": [
    "def flatten(x_tensor):\n",
    "    \"\"\"\n",
    "    Flatten x_tensor to (Batch Size, Flattened Image Size)\n",
    "    : x_tensor: A tensor of size (Batch Size, ...), where ... are the image dimensions.\n",
    "    : return: A tensor of size (Batch Size, Flattened Image Size).\n",
    "    \"\"\"\n",
    "    # TODO: Implement Function\n",
    "    shape = x_tensor.get_shape().as_list()\n",
    "    flatten = tf.reshape(x_tensor, shape= [-1, shape[1] * shape[2] * shape[3]])\n",
    "    return flatten\n",
    "\n",
    "\n",
    "\"\"\"\n",
    "DON'T MODIFY ANYTHING IN THIS CELL THAT IS BELOW THIS LINE\n",
    "\"\"\"\n",
    "tests.test_flatten(flatten)"
   ]
  },
  {
   "cell_type": "markdown",
   "metadata": {
    "deletable": true,
    "editable": true
   },
   "source": [
    "### Fully-Connected Layer\n",
    "Implement the `fully_conn` function to apply a fully connected layer to `x_tensor` with the shape (*Batch Size*, *num_outputs*). Shortcut option: you can use classes from the [TensorFlow Layers](https://www.tensorflow.org/api_docs/python/tf/layers) or [TensorFlow Layers (contrib)](https://www.tensorflow.org/api_guides/python/contrib.layers) packages for this layer. For more of a challenge, only use other TensorFlow packages."
   ]
  },
  {
   "cell_type": "code",
   "execution_count": 11,
   "metadata": {
    "collapsed": false,
    "deletable": true,
    "editable": true
   },
   "outputs": [
    {
     "name": "stdout",
     "output_type": "stream",
     "text": [
      "Tests Passed\n"
     ]
    }
   ],
   "source": [
    "def fully_conn(x_tensor, num_outputs):\n",
    "    \"\"\"\n",
    "    Apply a fully connected layer to x_tensor using weight and bias\n",
    "    : x_tensor: A 2-D tensor where the first dimension is batch size.\n",
    "    : num_outputs: The number of output that the new tensor should be.\n",
    "    : return: A 2-D tensor where the second dimension is num_outputs.\n",
    "    \"\"\"\n",
    "    # TODO: Implement Function\n",
    "    weights = tf.Variable(tf.truncated_normal(\n",
    "        shape= [x_tensor.shape[-1].value, num_outputs], stddev = 0.1))\n",
    "    bias = tf.Variable(tf.zeros([num_outputs]))\n",
    "    \n",
    "    fully_conn = tf.add(tf.matmul(x_tensor, weights), bias)\n",
    "    \n",
    "    return fully_conn\n",
    "\n",
    "\n",
    "\"\"\"\n",
    "DON'T MODIFY ANYTHING IN THIS CELL THAT IS BELOW THIS LINE\n",
    "\"\"\"\n",
    "tests.test_fully_conn(fully_conn)"
   ]
  },
  {
   "cell_type": "markdown",
   "metadata": {
    "deletable": true,
    "editable": true
   },
   "source": [
    "### Output Layer\n",
    "Implement the `output` function to apply a fully connected layer to `x_tensor` with the shape (*Batch Size*, *num_outputs*). Shortcut option: you can use classes from the [TensorFlow Layers](https://www.tensorflow.org/api_docs/python/tf/layers) or [TensorFlow Layers (contrib)](https://www.tensorflow.org/api_guides/python/contrib.layers) packages for this layer. For more of a challenge, only use other TensorFlow packages.\n",
    "\n",
    "**Note:** Activation, softmax, or cross entropy should **not** be applied to this."
   ]
  },
  {
   "cell_type": "code",
   "execution_count": 12,
   "metadata": {
    "collapsed": false,
    "deletable": true,
    "editable": true
   },
   "outputs": [
    {
     "name": "stdout",
     "output_type": "stream",
     "text": [
      "Tests Passed\n"
     ]
    }
   ],
   "source": [
    "def output(x_tensor, num_outputs):\n",
    "    \"\"\"\n",
    "    Apply a output layer to x_tensor using weight and bias\n",
    "    : x_tensor: A 2-D tensor where the first dimension is batch size.\n",
    "    : num_outputs: The number of output that the new tensor should be.\n",
    "    : return: A 2-D tensor where the second dimension is num_outputs.\n",
    "    \"\"\"\n",
    "    # TODO: Implement Function\n",
    "    return tf.layers.dense(x_tensor, num_outputs)\n",
    "\n",
    "\n",
    "\"\"\"\n",
    "DON'T MODIFY ANYTHING IN THIS CELL THAT IS BELOW THIS LINE\n",
    "\"\"\"\n",
    "tests.test_output(output)"
   ]
  },
  {
   "cell_type": "markdown",
   "metadata": {
    "deletable": true,
    "editable": true
   },
   "source": [
    "### Create Convolutional Model\n",
    "Implement the function `conv_net` to create a convolutional neural network model. The function takes in a batch of images, `x`, and outputs logits.  Use the layers you created above to create this model:\n",
    "\n",
    "* Apply 1, 2, or 3 Convolution and Max Pool layers\n",
    "* Apply a Flatten Layer\n",
    "* Apply 1, 2, or 3 Fully Connected Layers\n",
    "* Apply an Output Layer\n",
    "* Return the output\n",
    "* Apply [TensorFlow's Dropout](https://www.tensorflow.org/api_docs/python/tf/nn/dropout) to one or more layers in the model using `keep_prob`. "
   ]
  },
  {
   "cell_type": "code",
   "execution_count": 35,
   "metadata": {
    "collapsed": false,
    "deletable": true,
    "editable": true
   },
   "outputs": [
    {
     "name": "stdout",
     "output_type": "stream",
     "text": [
      "Neural Network Built!\n"
     ]
    }
   ],
   "source": [
    "def conv_net(x, keep_prob):\n",
    "    \"\"\"\n",
    "    Create a convolutional neural network model\n",
    "    : x: Placeholder tensor that holds image data.\n",
    "    : keep_prob: Placeholder tensor that hold dropout keep probability.\n",
    "    : return: Tensor that represents logits\n",
    "    \"\"\"\n",
    "    # TODO: Apply 1, 2, or 3 Convolution and Max Pool layers\n",
    "    #    Play around with different number of outputs, kernel size and stride\n",
    "    # Function Definition from Above:\n",
    "    #    conv2d_maxpool(x_tensor, conv_num_outputs, conv_ksize, conv_strides, pool_ksize, pool_strides)\n",
    "    x = conv2d_maxpool(x, 512, (2,2), (3,3), (2,2), (2,2))\n",
    "    #x = conv2d_maxpool(x, 128, (2,2), (3,3), (2,2), (2,2))\n",
    "    #x = conv2d_maxpool(x, 128, (2,2), (3,3), (2,2), (2,2))\n",
    "\n",
    "    # TODO: Apply a Flatten Layer\n",
    "    # Function Definition from Above:\n",
    "    #   flatten(x_tensor)\n",
    "    x = flatten(x)\n",
    "\n",
    "    # TODO: Apply 1, 2, or 3 Fully Connected Layers\n",
    "    #    Play around with different number of outputs\n",
    "    # Function Definition from Above:\n",
    "    #   fully_conn(x_tensor, num_outputs)\n",
    "    x = fully_conn(x, 4096)\n",
    "    x = tf.nn.dropout(x, keep_prob)\n",
    "    \n",
    "    # TODO: Apply an Output Layer\n",
    "    #    Set this to the number of classes\n",
    "    # Function Definition from Above:\n",
    "    #   output(x_tensor, num_outputs)\n",
    "    x = output(x, 10)\n",
    "    \n",
    "    # TODO: return output\n",
    "    return x\n",
    "\n",
    "\n",
    "\"\"\"\n",
    "DON'T MODIFY ANYTHING IN THIS CELL THAT IS BELOW THIS LINE\n",
    "\"\"\"\n",
    "\n",
    "##############################\n",
    "## Build the Neural Network ##\n",
    "##############################\n",
    "\n",
    "# Remove previous weights, bias, inputs, etc..\n",
    "tf.reset_default_graph()\n",
    "\n",
    "# Inputs\n",
    "x = neural_net_image_input((32, 32, 3))\n",
    "y = neural_net_label_input(10)\n",
    "keep_prob = neural_net_keep_prob_input()\n",
    "\n",
    "# Model\n",
    "logits = conv_net(x, keep_prob)\n",
    "\n",
    "# Name logits Tensor, so that is can be loaded from disk after training\n",
    "logits = tf.identity(logits, name='logits')\n",
    "\n",
    "# Loss and Optimizer\n",
    "cost = tf.reduce_mean(tf.nn.softmax_cross_entropy_with_logits(logits=logits, labels=y))\n",
    "optimizer = tf.train.AdamOptimizer().minimize(cost)\n",
    "\n",
    "# Accuracy\n",
    "correct_pred = tf.equal(tf.argmax(logits, 1), tf.argmax(y, 1))\n",
    "accuracy = tf.reduce_mean(tf.cast(correct_pred, tf.float32), name='accuracy')\n",
    "\n",
    "tests.test_conv_net(conv_net)"
   ]
  },
  {
   "cell_type": "markdown",
   "metadata": {
    "deletable": true,
    "editable": true
   },
   "source": [
    "## Train the Neural Network\n",
    "### Single Optimization\n",
    "Implement the function `train_neural_network` to do a single optimization.  The optimization should use `optimizer` to optimize in `session` with a `feed_dict` of the following:\n",
    "* `x` for image input\n",
    "* `y` for labels\n",
    "* `keep_prob` for keep probability for dropout\n",
    "\n",
    "This function will be called for each batch, so `tf.global_variables_initializer()` has already been called.\n",
    "\n",
    "Note: Nothing needs to be returned. This function is only optimizing the neural network."
   ]
  },
  {
   "cell_type": "code",
   "execution_count": 20,
   "metadata": {
    "collapsed": false,
    "deletable": true,
    "editable": true
   },
   "outputs": [
    {
     "name": "stdout",
     "output_type": "stream",
     "text": [
      "Tests Passed\n"
     ]
    }
   ],
   "source": [
    "def train_neural_network(session, optimizer, keep_probability, feature_batch, label_batch):\n",
    "    \"\"\"\n",
    "    Optimize the session on a batch of images and labels\n",
    "    : session: Current TensorFlow session\n",
    "    : optimizer: TensorFlow optimizer function\n",
    "    : keep_probability: keep probability\n",
    "    : feature_batch: Batch of Numpy image data\n",
    "    : label_batch: Batch of Numpy label data\n",
    "    \"\"\"\n",
    "    # TODO: Implement Function\n",
    "    #init = tf.global_variables_initializer()\n",
    "    #session.run(init)\n",
    "    session.run(optimizer, feed_dict = {keep_prob: keep_probability,x: feature_batch, y: label_batch})\n",
    "        \n",
    "    \n",
    "\n",
    "\n",
    "\"\"\"\n",
    "DON'T MODIFY ANYTHING IN THIS CELL THAT IS BELOW THIS LINE\n",
    "\"\"\"\n",
    "tests.test_train_nn(train_neural_network)"
   ]
  },
  {
   "cell_type": "markdown",
   "metadata": {
    "deletable": true,
    "editable": true
   },
   "source": [
    "### Show Stats\n",
    "Implement the function `print_stats` to print loss and validation accuracy.  Use the global variables `valid_features` and `valid_labels` to calculate validation accuracy.  Use a keep probability of `1.0` to calculate the loss and validation accuracy."
   ]
  },
  {
   "cell_type": "code",
   "execution_count": 21,
   "metadata": {
    "collapsed": false,
    "deletable": true,
    "editable": true
   },
   "outputs": [],
   "source": [
    "def print_stats(session, feature_batch, label_batch, cost, accuracy):\n",
    "    \"\"\"\n",
    "    Print information about loss and validation accuracy\n",
    "    : session: Current TensorFlow session\n",
    "    : feature_batch: Batch of Numpy image data\n",
    "    : label_batch: Batch of Numpy label data\n",
    "    : cost: TensorFlow cost function\n",
    "    : accuracy: TensorFlow accuracy function\n",
    "    \"\"\"\n",
    "    # TODO: Implement Function\n",
    "    feed_dict = {keep_prob: 1.0, x: feature_batch, y: label_batch}\n",
    "    cost ,accuracy = session.run([cost ,accuracy], feed_dict = feed_dict)\n",
    "    print('The model cost is ', cost, 'The model accuracy is ', accuracy )"
   ]
  },
  {
   "cell_type": "markdown",
   "metadata": {
    "deletable": true,
    "editable": true
   },
   "source": [
    "### Hyperparameters\n",
    "Tune the following parameters:\n",
    "* Set `epochs` to the number of iterations until the network stops learning or start overfitting\n",
    "* Set `batch_size` to the highest number that your machine has memory for.  Most people set them to common sizes of memory:\n",
    " * 64\n",
    " * 128\n",
    " * 256\n",
    " * ...\n",
    "* Set `keep_probability` to the probability of keeping a node using dropout"
   ]
  },
  {
   "cell_type": "code",
   "execution_count": 31,
   "metadata": {
    "collapsed": true,
    "deletable": true,
    "editable": true
   },
   "outputs": [],
   "source": [
    "# TODO: Tune Parameters\n",
    "epochs = 40\n",
    "batch_size = 512\n",
    "keep_probability = 0.9"
   ]
  },
  {
   "cell_type": "markdown",
   "metadata": {
    "deletable": true,
    "editable": true
   },
   "source": [
    "### Train on a Single CIFAR-10 Batch\n",
    "Instead of training the neural network on all the CIFAR-10 batches of data, let's use a single batch. This should save time while you iterate on the model to get a better accuracy.  Once the final validation accuracy is 50% or greater, run the model on all the data in the next section."
   ]
  },
  {
   "cell_type": "code",
   "execution_count": 36,
   "metadata": {
    "collapsed": false,
    "deletable": true,
    "editable": true
   },
   "outputs": [
    {
     "name": "stdout",
     "output_type": "stream",
     "text": [
      "Checking the Training on a Single Batch...\n",
      "Epoch  1, CIFAR-10 Batch 1:  The model cost is  13.9617 The model accuracy is  0.168919\n",
      "Epoch  2, CIFAR-10 Batch 1:  The model cost is  2.53287 The model accuracy is  0.27027\n",
      "Epoch  3, CIFAR-10 Batch 1:  The model cost is  1.90164 The model accuracy is  0.35473\n",
      "Epoch  4, CIFAR-10 Batch 1:  The model cost is  1.55785 The model accuracy is  0.496622\n",
      "Epoch  5, CIFAR-10 Batch 1:  The model cost is  1.33001 The model accuracy is  0.574324\n",
      "Epoch  6, CIFAR-10 Batch 1:  The model cost is  1.15036 The model accuracy is  0.625\n",
      "Epoch  7, CIFAR-10 Batch 1:  The model cost is  1.01731 The model accuracy is  0.699324\n",
      "Epoch  8, CIFAR-10 Batch 1:  The model cost is  0.924024 The model accuracy is  0.699324\n",
      "Epoch  9, CIFAR-10 Batch 1:  The model cost is  0.868623 The model accuracy is  0.712838\n",
      "Epoch 10, CIFAR-10 Batch 1:  The model cost is  0.837697 The model accuracy is  0.72973\n",
      "Epoch 11, CIFAR-10 Batch 1:  The model cost is  0.798857 The model accuracy is  0.739865\n",
      "Epoch 12, CIFAR-10 Batch 1:  The model cost is  0.719929 The model accuracy is  0.783784\n",
      "Epoch 13, CIFAR-10 Batch 1:  The model cost is  0.675058 The model accuracy is  0.790541\n",
      "Epoch 14, CIFAR-10 Batch 1:  The model cost is  0.645868 The model accuracy is  0.807432\n",
      "Epoch 15, CIFAR-10 Batch 1:  The model cost is  0.609695 The model accuracy is  0.847973\n",
      "Epoch 16, CIFAR-10 Batch 1:  The model cost is  0.576485 The model accuracy is  0.85473\n",
      "Epoch 17, CIFAR-10 Batch 1:  The model cost is  0.555201 The model accuracy is  0.858108\n",
      "Epoch 18, CIFAR-10 Batch 1:  The model cost is  0.553037 The model accuracy is  0.834459\n",
      "Epoch 19, CIFAR-10 Batch 1:  The model cost is  0.534834 The model accuracy is  0.847973\n",
      "Epoch 20, CIFAR-10 Batch 1:  The model cost is  0.501591 The model accuracy is  0.85473\n",
      "Epoch 21, CIFAR-10 Batch 1:  The model cost is  0.507058 The model accuracy is  0.851351\n",
      "Epoch 22, CIFAR-10 Batch 1:  The model cost is  0.439656 The model accuracy is  0.888514\n",
      "Epoch 23, CIFAR-10 Batch 1:  The model cost is  0.428648 The model accuracy is  0.898649\n",
      "Epoch 24, CIFAR-10 Batch 1:  The model cost is  0.399847 The model accuracy is  0.89527\n",
      "Epoch 25, CIFAR-10 Batch 1:  The model cost is  0.378297 The model accuracy is  0.905405\n",
      "Epoch 26, CIFAR-10 Batch 1:  The model cost is  0.369454 The model accuracy is  0.908784\n",
      "Epoch 27, CIFAR-10 Batch 1:  The model cost is  0.35481 The model accuracy is  0.918919\n",
      "Epoch 28, CIFAR-10 Batch 1:  The model cost is  0.329723 The model accuracy is  0.922297\n",
      "Epoch 29, CIFAR-10 Batch 1:  The model cost is  0.338597 The model accuracy is  0.915541\n",
      "Epoch 30, CIFAR-10 Batch 1:  The model cost is  0.332691 The model accuracy is  0.918919\n",
      "Epoch 31, CIFAR-10 Batch 1:  The model cost is  0.31127 The model accuracy is  0.929054\n",
      "Epoch 32, CIFAR-10 Batch 1:  The model cost is  0.32483 The model accuracy is  0.929054\n",
      "Epoch 33, CIFAR-10 Batch 1:  The model cost is  0.282288 The model accuracy is  0.942568\n",
      "Epoch 34, CIFAR-10 Batch 1:  The model cost is  0.272586 The model accuracy is  0.932432\n",
      "Epoch 35, CIFAR-10 Batch 1:  The model cost is  0.299666 The model accuracy is  0.918919\n",
      "Epoch 36, CIFAR-10 Batch 1:  The model cost is  0.256112 The model accuracy is  0.952703\n",
      "Epoch 37, CIFAR-10 Batch 1:  The model cost is  0.290015 The model accuracy is  0.925676\n",
      "Epoch 38, CIFAR-10 Batch 1:  The model cost is  0.304668 The model accuracy is  0.922297\n",
      "Epoch 39, CIFAR-10 Batch 1:  The model cost is  0.294221 The model accuracy is  0.915541\n",
      "Epoch 40, CIFAR-10 Batch 1:  The model cost is  0.256491 The model accuracy is  0.952703\n"
     ]
    }
   ],
   "source": [
    "\"\"\"\n",
    "DON'T MODIFY ANYTHING IN THIS CELL\n",
    "\"\"\"\n",
    "print('Checking the Training on a Single Batch...')\n",
    "with tf.Session() as sess:\n",
    "    # Initializing the variables\n",
    "    sess.run(tf.global_variables_initializer())\n",
    "    \n",
    "    # Training cycle\n",
    "    for epoch in range(epochs):\n",
    "        batch_i = 1\n",
    "        for batch_features, batch_labels in helper.load_preprocess_training_batch(batch_i, batch_size):\n",
    "            train_neural_network(sess, optimizer, keep_probability, batch_features, batch_labels)\n",
    "        print('Epoch {:>2}, CIFAR-10 Batch {}:  '.format(epoch + 1, batch_i), end='')\n",
    "        print_stats(sess, batch_features, batch_labels, cost, accuracy)"
   ]
  },
  {
   "cell_type": "markdown",
   "metadata": {
    "deletable": true,
    "editable": true
   },
   "source": [
    "### Fully Train the Model\n",
    "Now that you got a good accuracy with a single CIFAR-10 batch, try it with all five batches."
   ]
  },
  {
   "cell_type": "code",
   "execution_count": 37,
   "metadata": {
    "collapsed": false,
    "deletable": true,
    "editable": true,
    "scrolled": true
   },
   "outputs": [
    {
     "name": "stdout",
     "output_type": "stream",
     "text": [
      "Training...\n",
      "Epoch  1, CIFAR-10 Batch 1:  The model cost is  8.23616 The model accuracy is  0.168919\n",
      "Epoch  1, CIFAR-10 Batch 2:  The model cost is  2.811 The model accuracy is  0.260135\n",
      "Epoch  1, CIFAR-10 Batch 3:  The model cost is  1.79118 The model accuracy is  0.331081\n",
      "Epoch  1, CIFAR-10 Batch 4:  The model cost is  1.52864 The model accuracy is  0.459459\n",
      "Epoch  1, CIFAR-10 Batch 5:  The model cost is  1.47095 The model accuracy is  0.496622\n",
      "Epoch  2, CIFAR-10 Batch 1:  The model cost is  1.46613 The model accuracy is  0.5\n",
      "Epoch  2, CIFAR-10 Batch 2:  The model cost is  1.27675 The model accuracy is  0.570946\n",
      "Epoch  2, CIFAR-10 Batch 3:  The model cost is  1.24957 The model accuracy is  0.540541\n",
      "Epoch  2, CIFAR-10 Batch 4:  The model cost is  1.16637 The model accuracy is  0.567568\n",
      "Epoch  2, CIFAR-10 Batch 5:  The model cost is  1.21888 The model accuracy is  0.584459\n",
      "Epoch  3, CIFAR-10 Batch 1:  The model cost is  1.22163 The model accuracy is  0.560811\n",
      "Epoch  3, CIFAR-10 Batch 2:  The model cost is  1.11277 The model accuracy is  0.628378\n",
      "Epoch  3, CIFAR-10 Batch 3:  The model cost is  1.13342 The model accuracy is  0.584459\n",
      "Epoch  3, CIFAR-10 Batch 4:  The model cost is  1.04032 The model accuracy is  0.618243\n",
      "Epoch  3, CIFAR-10 Batch 5:  The model cost is  1.09493 The model accuracy is  0.635135\n",
      "Epoch  4, CIFAR-10 Batch 1:  The model cost is  1.12033 The model accuracy is  0.584459\n",
      "Epoch  4, CIFAR-10 Batch 2:  The model cost is  1.03059 The model accuracy is  0.668919\n",
      "Epoch  4, CIFAR-10 Batch 3:  The model cost is  1.05283 The model accuracy is  0.597973\n",
      "Epoch  4, CIFAR-10 Batch 4:  The model cost is  0.955318 The model accuracy is  0.64527\n",
      "Epoch  4, CIFAR-10 Batch 5:  The model cost is  1.01306 The model accuracy is  0.648649\n",
      "Epoch  5, CIFAR-10 Batch 1:  The model cost is  1.05444 The model accuracy is  0.625\n",
      "Epoch  5, CIFAR-10 Batch 2:  The model cost is  0.969021 The model accuracy is  0.702703\n",
      "Epoch  5, CIFAR-10 Batch 3:  The model cost is  0.974744 The model accuracy is  0.655405\n",
      "Epoch  5, CIFAR-10 Batch 4:  The model cost is  0.891631 The model accuracy is  0.682433\n",
      "Epoch  5, CIFAR-10 Batch 5:  The model cost is  0.947583 The model accuracy is  0.668919\n",
      "Epoch  6, CIFAR-10 Batch 1:  The model cost is  1.00062 The model accuracy is  0.658784\n",
      "Epoch  6, CIFAR-10 Batch 2:  The model cost is  0.900802 The model accuracy is  0.722973\n",
      "Epoch  6, CIFAR-10 Batch 3:  The model cost is  0.923841 The model accuracy is  0.675676\n",
      "Epoch  6, CIFAR-10 Batch 4:  The model cost is  0.838713 The model accuracy is  0.709459\n",
      "Epoch  6, CIFAR-10 Batch 5:  The model cost is  0.898891 The model accuracy is  0.682432\n",
      "Epoch  7, CIFAR-10 Batch 1:  The model cost is  0.953031 The model accuracy is  0.668919\n",
      "Epoch  7, CIFAR-10 Batch 2:  The model cost is  0.846256 The model accuracy is  0.739865\n",
      "Epoch  7, CIFAR-10 Batch 3:  The model cost is  0.85298 The model accuracy is  0.702703\n",
      "Epoch  7, CIFAR-10 Batch 4:  The model cost is  0.802516 The model accuracy is  0.722973\n",
      "Epoch  7, CIFAR-10 Batch 5:  The model cost is  0.853647 The model accuracy is  0.706081\n",
      "Epoch  8, CIFAR-10 Batch 1:  The model cost is  0.915088 The model accuracy is  0.702703\n",
      "Epoch  8, CIFAR-10 Batch 2:  The model cost is  0.832654 The model accuracy is  0.733108\n",
      "Epoch  8, CIFAR-10 Batch 3:  The model cost is  0.812422 The model accuracy is  0.709459\n",
      "Epoch  8, CIFAR-10 Batch 4:  The model cost is  0.760507 The model accuracy is  0.736487\n",
      "Epoch  8, CIFAR-10 Batch 5:  The model cost is  0.801641 The model accuracy is  0.719595\n",
      "Epoch  9, CIFAR-10 Batch 1:  The model cost is  0.88811 The model accuracy is  0.709459\n",
      "Epoch  9, CIFAR-10 Batch 2:  The model cost is  0.787467 The model accuracy is  0.760135\n",
      "Epoch  9, CIFAR-10 Batch 3:  The model cost is  0.79567 The model accuracy is  0.719595\n",
      "Epoch  9, CIFAR-10 Batch 4:  The model cost is  0.722422 The model accuracy is  0.763514\n",
      "Epoch  9, CIFAR-10 Batch 5:  The model cost is  0.772267 The model accuracy is  0.712838\n",
      "Epoch 10, CIFAR-10 Batch 1:  The model cost is  0.860181 The model accuracy is  0.719595\n",
      "Epoch 10, CIFAR-10 Batch 2:  The model cost is  0.767275 The model accuracy is  0.736487\n",
      "Epoch 10, CIFAR-10 Batch 3:  The model cost is  0.763076 The model accuracy is  0.739865\n",
      "Epoch 10, CIFAR-10 Batch 4:  The model cost is  0.698047 The model accuracy is  0.787162\n",
      "Epoch 10, CIFAR-10 Batch 5:  The model cost is  0.73911 The model accuracy is  0.726351\n",
      "Epoch 11, CIFAR-10 Batch 1:  The model cost is  0.840229 The model accuracy is  0.722973\n",
      "Epoch 11, CIFAR-10 Batch 2:  The model cost is  0.7329 The model accuracy is  0.777027\n",
      "Epoch 11, CIFAR-10 Batch 3:  The model cost is  0.728663 The model accuracy is  0.763514\n",
      "Epoch 11, CIFAR-10 Batch 4:  The model cost is  0.671681 The model accuracy is  0.797297\n",
      "Epoch 11, CIFAR-10 Batch 5:  The model cost is  0.708387 The model accuracy is  0.743243\n",
      "Epoch 12, CIFAR-10 Batch 1:  The model cost is  0.807831 The model accuracy is  0.739865\n",
      "Epoch 12, CIFAR-10 Batch 2:  The model cost is  0.717304 The model accuracy is  0.766892\n",
      "Epoch 12, CIFAR-10 Batch 3:  The model cost is  0.684854 The model accuracy is  0.77027\n",
      "Epoch 12, CIFAR-10 Batch 4:  The model cost is  0.645679 The model accuracy is  0.800676\n",
      "Epoch 12, CIFAR-10 Batch 5:  The model cost is  0.682031 The model accuracy is  0.753378\n",
      "Epoch 13, CIFAR-10 Batch 1:  The model cost is  0.788193 The model accuracy is  0.743243\n",
      "Epoch 13, CIFAR-10 Batch 2:  The model cost is  0.693476 The model accuracy is  0.773649\n",
      "Epoch 13, CIFAR-10 Batch 3:  The model cost is  0.652577 The model accuracy is  0.777027\n",
      "Epoch 13, CIFAR-10 Batch 4:  The model cost is  0.622665 The model accuracy is  0.804054\n",
      "Epoch 13, CIFAR-10 Batch 5:  The model cost is  0.64717 The model accuracy is  0.77027\n",
      "Epoch 14, CIFAR-10 Batch 1:  The model cost is  0.773835 The model accuracy is  0.733108\n",
      "Epoch 14, CIFAR-10 Batch 2:  The model cost is  0.667792 The model accuracy is  0.783784\n",
      "Epoch 14, CIFAR-10 Batch 3:  The model cost is  0.617221 The model accuracy is  0.800676\n",
      "Epoch 14, CIFAR-10 Batch 4:  The model cost is  0.595541 The model accuracy is  0.800676\n",
      "Epoch 14, CIFAR-10 Batch 5:  The model cost is  0.632979 The model accuracy is  0.773649\n",
      "Epoch 15, CIFAR-10 Batch 1:  The model cost is  0.758236 The model accuracy is  0.739865\n",
      "Epoch 15, CIFAR-10 Batch 2:  The model cost is  0.645274 The model accuracy is  0.783784\n",
      "Epoch 15, CIFAR-10 Batch 3:  The model cost is  0.595545 The model accuracy is  0.787162\n",
      "Epoch 15, CIFAR-10 Batch 4:  The model cost is  0.585844 The model accuracy is  0.820946\n",
      "Epoch 15, CIFAR-10 Batch 5:  The model cost is  0.610517 The model accuracy is  0.773649\n",
      "Epoch 16, CIFAR-10 Batch 1:  The model cost is  0.733848 The model accuracy is  0.739865\n",
      "Epoch 16, CIFAR-10 Batch 2:  The model cost is  0.614526 The model accuracy is  0.800676\n",
      "Epoch 16, CIFAR-10 Batch 3:  The model cost is  0.588918 The model accuracy is  0.780405\n",
      "Epoch 16, CIFAR-10 Batch 4:  The model cost is  0.559635 The model accuracy is  0.814189\n",
      "Epoch 16, CIFAR-10 Batch 5:  The model cost is  0.593855 The model accuracy is  0.800676\n",
      "Epoch 17, CIFAR-10 Batch 1:  The model cost is  0.700023 The model accuracy is  0.753378\n",
      "Epoch 17, CIFAR-10 Batch 2:  The model cost is  0.595178 The model accuracy is  0.804054\n",
      "Epoch 17, CIFAR-10 Batch 3:  The model cost is  0.591327 The model accuracy is  0.783784\n",
      "Epoch 17, CIFAR-10 Batch 4:  The model cost is  0.534158 The model accuracy is  0.847973\n",
      "Epoch 17, CIFAR-10 Batch 5:  The model cost is  0.578325 The model accuracy is  0.804054\n",
      "Epoch 18, CIFAR-10 Batch 1:  The model cost is  0.671958 The model accuracy is  0.773649\n",
      "Epoch 18, CIFAR-10 Batch 2:  The model cost is  0.574073 The model accuracy is  0.804054\n",
      "Epoch 18, CIFAR-10 Batch 3:  The model cost is  0.599615 The model accuracy is  0.780405\n",
      "Epoch 18, CIFAR-10 Batch 4:  The model cost is  0.53387 The model accuracy is  0.844595\n",
      "Epoch 18, CIFAR-10 Batch 5:  The model cost is  0.580209 The model accuracy is  0.793919\n",
      "Epoch 19, CIFAR-10 Batch 1:  The model cost is  0.637806 The model accuracy is  0.807432\n",
      "Epoch 19, CIFAR-10 Batch 2:  The model cost is  0.586742 The model accuracy is  0.800676\n",
      "Epoch 19, CIFAR-10 Batch 3:  The model cost is  0.539152 The model accuracy is  0.807432\n",
      "Epoch 19, CIFAR-10 Batch 4:  The model cost is  0.532443 The model accuracy is  0.851351\n",
      "Epoch 19, CIFAR-10 Batch 5:  The model cost is  0.570156 The model accuracy is  0.804054\n",
      "Epoch 20, CIFAR-10 Batch 1:  The model cost is  0.664646 The model accuracy is  0.790541\n",
      "Epoch 20, CIFAR-10 Batch 2:  The model cost is  0.530105 The model accuracy is  0.831081\n",
      "Epoch 20, CIFAR-10 Batch 3:  The model cost is  0.506856 The model accuracy is  0.817568\n",
      "Epoch 20, CIFAR-10 Batch 4:  The model cost is  0.506731 The model accuracy is  0.85473\n",
      "Epoch 20, CIFAR-10 Batch 5:  The model cost is  0.523699 The model accuracy is  0.814189\n",
      "Epoch 21, CIFAR-10 Batch 1:  The model cost is  0.628649 The model accuracy is  0.797297\n",
      "Epoch 21, CIFAR-10 Batch 2:  The model cost is  0.527669 The model accuracy is  0.831081\n",
      "Epoch 21, CIFAR-10 Batch 3:  The model cost is  0.49096 The model accuracy is  0.837838\n",
      "Epoch 21, CIFAR-10 Batch 4:  The model cost is  0.50535 The model accuracy is  0.851351\n",
      "Epoch 21, CIFAR-10 Batch 5:  The model cost is  0.505174 The model accuracy is  0.837838\n",
      "Epoch 22, CIFAR-10 Batch 1:  The model cost is  0.597805 The model accuracy is  0.820946\n",
      "Epoch 22, CIFAR-10 Batch 2:  The model cost is  0.518631 The model accuracy is  0.83446\n",
      "Epoch 22, CIFAR-10 Batch 3:  The model cost is  0.473604 The model accuracy is  0.844595\n",
      "Epoch 22, CIFAR-10 Batch 4:  The model cost is  0.503339 The model accuracy is  0.844595\n",
      "Epoch 22, CIFAR-10 Batch 5:  The model cost is  0.503626 The model accuracy is  0.851351\n",
      "Epoch 23, CIFAR-10 Batch 1:  The model cost is  0.606992 The model accuracy is  0.800676\n",
      "Epoch 23, CIFAR-10 Batch 2:  The model cost is  0.514082 The model accuracy is  0.83446\n",
      "Epoch 23, CIFAR-10 Batch 3:  The model cost is  0.453226 The model accuracy is  0.861486\n",
      "Epoch 23, CIFAR-10 Batch 4:  The model cost is  0.502223 The model accuracy is  0.831081\n",
      "Epoch 23, CIFAR-10 Batch 5:  The model cost is  0.491687 The model accuracy is  0.85473\n",
      "Epoch 24, CIFAR-10 Batch 1:  The model cost is  0.599658 The model accuracy is  0.807432\n",
      "Epoch 24, CIFAR-10 Batch 2:  The model cost is  0.523524 The model accuracy is  0.810811\n",
      "Epoch 24, CIFAR-10 Batch 3:  The model cost is  0.447873 The model accuracy is  0.847973\n",
      "Epoch 24, CIFAR-10 Batch 4:  The model cost is  0.474182 The model accuracy is  0.851351\n",
      "Epoch 24, CIFAR-10 Batch 5:  The model cost is  0.467428 The model accuracy is  0.864865\n",
      "Epoch 25, CIFAR-10 Batch 1:  The model cost is  0.577279 The model accuracy is  0.820946\n",
      "Epoch 25, CIFAR-10 Batch 2:  The model cost is  0.534302 The model accuracy is  0.820946\n",
      "Epoch 25, CIFAR-10 Batch 3:  The model cost is  0.438036 The model accuracy is  0.85473\n",
      "Epoch 25, CIFAR-10 Batch 4:  The model cost is  0.434817 The model accuracy is  0.864865\n",
      "Epoch 25, CIFAR-10 Batch 5:  The model cost is  0.456942 The model accuracy is  0.871622\n",
      "Epoch 26, CIFAR-10 Batch 1:  The model cost is  0.559261 The model accuracy is  0.810811\n",
      "Epoch 26, CIFAR-10 Batch 2:  The model cost is  0.524624 The model accuracy is  0.824324\n",
      "Epoch 26, CIFAR-10 Batch 3:  The model cost is  0.448477 The model accuracy is  0.858108\n",
      "Epoch 26, CIFAR-10 Batch 4:  The model cost is  0.439533 The model accuracy is  0.868243\n",
      "Epoch 26, CIFAR-10 Batch 5:  The model cost is  0.459086 The model accuracy is  0.871622\n",
      "Epoch 27, CIFAR-10 Batch 1:  The model cost is  0.594277 The model accuracy is  0.810811\n",
      "Epoch 27, CIFAR-10 Batch 2:  The model cost is  0.481668 The model accuracy is  0.837838\n",
      "Epoch 27, CIFAR-10 Batch 3:  The model cost is  0.535329 The model accuracy is  0.814189\n",
      "Epoch 27, CIFAR-10 Batch 4:  The model cost is  0.46294 The model accuracy is  0.847973\n",
      "Epoch 27, CIFAR-10 Batch 5:  The model cost is  0.464639 The model accuracy is  0.861486\n",
      "Epoch 28, CIFAR-10 Batch 1:  The model cost is  0.564034 The model accuracy is  0.827703\n",
      "Epoch 28, CIFAR-10 Batch 2:  The model cost is  0.502086 The model accuracy is  0.827703\n",
      "Epoch 28, CIFAR-10 Batch 3:  The model cost is  0.467108 The model accuracy is  0.827703\n",
      "Epoch 28, CIFAR-10 Batch 4:  The model cost is  0.435004 The model accuracy is  0.85473\n",
      "Epoch 28, CIFAR-10 Batch 5:  The model cost is  0.451575 The model accuracy is  0.868243\n",
      "Epoch 29, CIFAR-10 Batch 1:  The model cost is  0.540642 The model accuracy is  0.837838\n",
      "Epoch 29, CIFAR-10 Batch 2:  The model cost is  0.446768 The model accuracy is  0.861487\n",
      "Epoch 29, CIFAR-10 Batch 3:  The model cost is  0.448301 The model accuracy is  0.83446\n",
      "Epoch 29, CIFAR-10 Batch 4:  The model cost is  0.392813 The model accuracy is  0.875\n",
      "Epoch 29, CIFAR-10 Batch 5:  The model cost is  0.448473 The model accuracy is  0.868243\n",
      "Epoch 30, CIFAR-10 Batch 1:  The model cost is  0.521592 The model accuracy is  0.85473\n",
      "Epoch 30, CIFAR-10 Batch 2:  The model cost is  0.413243 The model accuracy is  0.868243\n",
      "Epoch 30, CIFAR-10 Batch 3:  The model cost is  0.399602 The model accuracy is  0.858108\n",
      "Epoch 30, CIFAR-10 Batch 4:  The model cost is  0.381324 The model accuracy is  0.885135\n",
      "Epoch 30, CIFAR-10 Batch 5:  The model cost is  0.4278 The model accuracy is  0.891892\n",
      "Epoch 31, CIFAR-10 Batch 1:  The model cost is  0.5212 The model accuracy is  0.837838\n",
      "Epoch 31, CIFAR-10 Batch 2:  The model cost is  0.394252 The model accuracy is  0.864865\n",
      "Epoch 31, CIFAR-10 Batch 3:  The model cost is  0.385229 The model accuracy is  0.864865\n",
      "Epoch 31, CIFAR-10 Batch 4:  The model cost is  0.37502 The model accuracy is  0.885135\n",
      "Epoch 31, CIFAR-10 Batch 5:  The model cost is  0.415519 The model accuracy is  0.881757\n",
      "Epoch 32, CIFAR-10 Batch 1:  The model cost is  0.503013 The model accuracy is  0.844595\n",
      "Epoch 32, CIFAR-10 Batch 2:  The model cost is  0.404243 The model accuracy is  0.864865\n",
      "Epoch 32, CIFAR-10 Batch 3:  The model cost is  0.401797 The model accuracy is  0.868243\n",
      "Epoch 32, CIFAR-10 Batch 4:  The model cost is  0.357634 The model accuracy is  0.912162\n",
      "Epoch 32, CIFAR-10 Batch 5:  The model cost is  0.396989 The model accuracy is  0.888514\n",
      "Epoch 33, CIFAR-10 Batch 1:  The model cost is  0.516934 The model accuracy is  0.831081\n",
      "Epoch 33, CIFAR-10 Batch 2:  The model cost is  0.390731 The model accuracy is  0.878378\n",
      "Epoch 33, CIFAR-10 Batch 3:  The model cost is  0.373931 The model accuracy is  0.902027\n",
      "Epoch 33, CIFAR-10 Batch 4:  The model cost is  0.405664 The model accuracy is  0.881757\n",
      "Epoch 33, CIFAR-10 Batch 5:  The model cost is  0.393505 The model accuracy is  0.891892\n",
      "Epoch 34, CIFAR-10 Batch 1:  The model cost is  0.541705 The model accuracy is  0.824324\n",
      "Epoch 34, CIFAR-10 Batch 2:  The model cost is  0.376594 The model accuracy is  0.905405\n",
      "Epoch 34, CIFAR-10 Batch 3:  The model cost is  0.387118 The model accuracy is  0.885135\n",
      "Epoch 34, CIFAR-10 Batch 4:  The model cost is  0.401722 The model accuracy is  0.868243\n",
      "Epoch 34, CIFAR-10 Batch 5:  The model cost is  0.363477 The model accuracy is  0.912162\n",
      "Epoch 35, CIFAR-10 Batch 1:  The model cost is  0.558718 The model accuracy is  0.790541\n",
      "Epoch 35, CIFAR-10 Batch 2:  The model cost is  0.400108 The model accuracy is  0.878378\n",
      "Epoch 35, CIFAR-10 Batch 3:  The model cost is  0.413026 The model accuracy is  0.868243\n",
      "Epoch 35, CIFAR-10 Batch 4:  The model cost is  0.370933 The model accuracy is  0.878378\n",
      "Epoch 35, CIFAR-10 Batch 5:  The model cost is  0.427995 The model accuracy is  0.875\n",
      "Epoch 36, CIFAR-10 Batch 1:  The model cost is  0.558266 The model accuracy is  0.807432\n",
      "Epoch 36, CIFAR-10 Batch 2:  The model cost is  0.487563 The model accuracy is  0.837838\n",
      "Epoch 36, CIFAR-10 Batch 3:  The model cost is  0.416668 The model accuracy is  0.871622\n",
      "Epoch 36, CIFAR-10 Batch 4:  The model cost is  0.420498 The model accuracy is  0.844595\n",
      "Epoch 36, CIFAR-10 Batch 5:  The model cost is  0.455179 The model accuracy is  0.864865\n",
      "Epoch 37, CIFAR-10 Batch 1:  The model cost is  0.524468 The model accuracy is  0.841216\n",
      "Epoch 37, CIFAR-10 Batch 2:  The model cost is  0.466732 The model accuracy is  0.837838\n",
      "Epoch 37, CIFAR-10 Batch 3:  The model cost is  0.364146 The model accuracy is  0.891892\n",
      "Epoch 37, CIFAR-10 Batch 4:  The model cost is  0.352032 The model accuracy is  0.891892\n",
      "Epoch 37, CIFAR-10 Batch 5:  The model cost is  0.37848 The model accuracy is  0.885135\n",
      "Epoch 38, CIFAR-10 Batch 1:  The model cost is  0.473916 The model accuracy is  0.868243\n",
      "Epoch 38, CIFAR-10 Batch 2:  The model cost is  0.379788 The model accuracy is  0.871622\n",
      "Epoch 38, CIFAR-10 Batch 3:  The model cost is  0.329511 The model accuracy is  0.908784\n",
      "Epoch 38, CIFAR-10 Batch 4:  The model cost is  0.341164 The model accuracy is  0.885135\n",
      "Epoch 38, CIFAR-10 Batch 5:  The model cost is  0.343258 The model accuracy is  0.89527\n",
      "Epoch 39, CIFAR-10 Batch 1:  The model cost is  0.427959 The model accuracy is  0.888514\n",
      "Epoch 39, CIFAR-10 Batch 2:  The model cost is  0.336008 The model accuracy is  0.89527\n",
      "Epoch 39, CIFAR-10 Batch 3:  The model cost is  0.303215 The model accuracy is  0.915541\n",
      "Epoch 39, CIFAR-10 Batch 4:  The model cost is  0.331156 The model accuracy is  0.912162\n",
      "Epoch 39, CIFAR-10 Batch 5:  The model cost is  0.325682 The model accuracy is  0.912162\n",
      "Epoch 40, CIFAR-10 Batch 1:  The model cost is  0.399111 The model accuracy is  0.888514\n",
      "Epoch 40, CIFAR-10 Batch 2:  The model cost is  0.309371 The model accuracy is  0.912162\n",
      "Epoch 40, CIFAR-10 Batch 3:  The model cost is  0.290147 The model accuracy is  0.929054\n",
      "Epoch 40, CIFAR-10 Batch 4:  The model cost is  0.314061 The model accuracy is  0.925676\n",
      "Epoch 40, CIFAR-10 Batch 5:  The model cost is  0.31031 The model accuracy is  0.918919\n"
     ]
    }
   ],
   "source": [
    "\"\"\"\n",
    "DON'T MODIFY ANYTHING IN THIS CELL\n",
    "\"\"\"\n",
    "save_model_path = './image_classification'\n",
    "\n",
    "print('Training...')\n",
    "with tf.Session() as sess:\n",
    "    # Initializing the variables\n",
    "    sess.run(tf.global_variables_initializer())\n",
    "    \n",
    "    # Training cycle\n",
    "    for epoch in range(epochs):\n",
    "        # Loop over all batches\n",
    "        n_batches = 5\n",
    "        for batch_i in range(1, n_batches + 1):\n",
    "            for batch_features, batch_labels in helper.load_preprocess_training_batch(batch_i, batch_size):\n",
    "                train_neural_network(sess, optimizer, keep_probability, batch_features, batch_labels)\n",
    "            print('Epoch {:>2}, CIFAR-10 Batch {}:  '.format(epoch + 1, batch_i), end='')\n",
    "            print_stats(sess, batch_features, batch_labels, cost, accuracy)\n",
    "            \n",
    "    # Save Model\n",
    "    saver = tf.train.Saver()\n",
    "    save_path = saver.save(sess, save_model_path)"
   ]
  },
  {
   "cell_type": "markdown",
   "metadata": {
    "deletable": true,
    "editable": true
   },
   "source": [
    "# Checkpoint\n",
    "The model has been saved to disk.\n",
    "## Test Model\n",
    "Test your model against the test dataset.  This will be your final accuracy. You should have an accuracy greater than 50%. If you don't, keep tweaking the model architecture and parameters."
   ]
  },
  {
   "cell_type": "code",
   "execution_count": 38,
   "metadata": {
    "collapsed": false,
    "deletable": true,
    "editable": true
   },
   "outputs": [
    {
     "name": "stdout",
     "output_type": "stream",
     "text": [
      "Testing Accuracy: 0.5659983932971955\n",
      "\n"
     ]
    },
    {
     "data": {
      "image/png": "[encoded data removed]",
      "text/plain": [
       "<matplotlib.figure.Figure at 0x7fec17197390>"
      ]
     },
     "metadata": {
      "image/png": {
       "height": 319,
       "width": 355
      }
     },
     "output_type": "display_data"
    }
   ],
   "source": [
    "\"\"\"\n",
    "DON'T MODIFY ANYTHING IN THIS CELL\n",
    "\"\"\"\n",
    "%matplotlib inline\n",
    "%config InlineBackend.figure_format = 'retina'\n",
    "\n",
    "import tensorflow as tf\n",
    "import pickle\n",
    "import helper\n",
    "import random\n",
    "\n",
    "# Set batch size if not already set\n",
    "try:\n",
    "    if batch_size:\n",
    "        pass\n",
    "except NameError:\n",
    "    batch_size = 64\n",
    "\n",
    "save_model_path = './image_classification'\n",
    "n_samples = 4\n",
    "top_n_predictions = 3\n",
    "\n",
    "def test_model():\n",
    "    \"\"\"\n",
    "    Test the saved model against the test dataset\n",
    "    \"\"\"\n",
    "\n",
    "    test_features, test_labels = pickle.load(open('preprocess_training.p', mode='rb'))\n",
    "    loaded_graph = tf.Graph()\n",
    "\n",
    "    with tf.Session(graph=loaded_graph) as sess:\n",
    "        # Load model\n",
    "        loader = tf.train.import_meta_graph(save_model_path + '.meta')\n",
    "        loader.restore(sess, save_model_path)\n",
    "\n",
    "        # Get Tensors from loaded model\n",
    "        loaded_x = loaded_graph.get_tensor_by_name('x:0')\n",
    "        loaded_y = loaded_graph.get_tensor_by_name('y:0')\n",
    "        loaded_keep_prob = loaded_graph.get_tensor_by_name('keep_prob:0')\n",
    "        loaded_logits = loaded_graph.get_tensor_by_name('logits:0')\n",
    "        loaded_acc = loaded_graph.get_tensor_by_name('accuracy:0')\n",
    "        \n",
    "        # Get accuracy in batches for memory limitations\n",
    "        test_batch_acc_total = 0\n",
    "        test_batch_count = 0\n",
    "        \n",
    "        for train_feature_batch, train_label_batch in helper.batch_features_labels(test_features, test_labels, batch_size):\n",
    "            test_batch_acc_total += sess.run(\n",
    "                loaded_acc,\n",
    "                feed_dict={loaded_x: train_feature_batch, loaded_y: train_label_batch, loaded_keep_prob: 1.0})\n",
    "            test_batch_count += 1\n",
    "\n",
    "        print('Testing Accuracy: {}\\n'.format(test_batch_acc_total/test_batch_count))\n",
    "\n",
    "        # Print Random Samples\n",
    "        random_test_features, random_test_labels = tuple(zip(*random.sample(list(zip(test_features, test_labels)), n_samples)))\n",
    "        random_test_predictions = sess.run(\n",
    "            tf.nn.top_k(tf.nn.softmax(loaded_logits), top_n_predictions),\n",
    "            feed_dict={loaded_x: random_test_features, loaded_y: random_test_labels, loaded_keep_prob: 1.0})\n",
    "        helper.display_image_predictions(random_test_features, random_test_labels, random_test_predictions)\n",
    "\n",
    "\n",
    "test_model()"
   ]
  },
  {
   "cell_type": "markdown",
   "metadata": {
    "deletable": true,
    "editable": true
   },
   "source": [
    "## Why 50-70% Accuracy?\n",
    "You might be wondering why you can't get an accuracy any higher. First things first, 50% isn't bad for a simple CNN.  Pure guessing would get you 10% accuracy. However, you might notice people are getting scores [well above 70%](http://rodrigob.github.io/are_we_there_yet/build/classification_datasets_results.html#43494641522d3130).  That's because we haven't taught you all there is to know about neural networks. We still need to cover a few more techniques.\n",
    "## Submitting This Project\n",
    "When submitting this project, make sure to run all the cells before saving the notebook.  Save the notebook file as \"dlnd_image_classification.ipynb\" and save it as a HTML file under \"File\" -> \"Download as\".  Include the \"helper.py\" and \"problem_unittests.py\" files in your submission."
   ]
  }
 ],
 "metadata": {
  "kernelspec": {
   "display_name": "Python 3",
   "language": "python",
   "name": "python3"
  },
  "language_info": {
   "codemirror_mode": {
    "name": "ipython",
    "version": 3
   },
   "file_extension": ".py",
   "mimetype": "text/x-python",
   "name": "python",
   "nbconvert_exporter": "python",
   "pygments_lexer": "ipython3",
   "version": "3.5.2"
  },
  "widgets": {
   "state": {},
   "version": "1.1.2"
  }
 },
 "nbformat": 4,
 "nbformat_minor": 0
}
